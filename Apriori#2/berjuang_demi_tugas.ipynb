{
 "cells": [
  {
   "cell_type": "code",
   "execution_count": 5,
   "metadata": {},
   "outputs": [],
   "source": [
    "import numpy as np\n",
    "import pandas as pd\n",
    "from apyori import apriori"
   ]
  },
  {
   "cell_type": "code",
   "execution_count": 6,
   "metadata": {},
   "outputs": [],
   "source": [
    "store_data = pd.read_excel('D:\\Perkuliahan\\Online\\Mining\\Phiton\\data.xls')"
   ]
  },
  {
   "cell_type": "code",
   "execution_count": 7,
   "metadata": {},
   "outputs": [
    {
     "data": {
      "text/html": [
       "<div>\n",
       "<style scoped>\n",
       "    .dataframe tbody tr th:only-of-type {\n",
       "        vertical-align: middle;\n",
       "    }\n",
       "\n",
       "    .dataframe tbody tr th {\n",
       "        vertical-align: top;\n",
       "    }\n",
       "\n",
       "    .dataframe thead th {\n",
       "        text-align: right;\n",
       "    }\n",
       "</style>\n",
       "<table border=\"1\" class=\"dataframe\">\n",
       "  <thead>\n",
       "    <tr style=\"text-align: right;\">\n",
       "      <th></th>\n",
       "      <th>Tranksaksi ke-</th>\n",
       "      <th>Barang 1</th>\n",
       "      <th>Barang 2</th>\n",
       "      <th>Barang 3</th>\n",
       "      <th>Barang 4</th>\n",
       "      <th>Barang 5</th>\n",
       "      <th>Barang 6</th>\n",
       "    </tr>\n",
       "  </thead>\n",
       "  <tbody>\n",
       "    <tr>\n",
       "      <th>0</th>\n",
       "      <td>1</td>\n",
       "      <td>Wine</td>\n",
       "      <td>Chips</td>\n",
       "      <td>Bread</td>\n",
       "      <td>Butter</td>\n",
       "      <td>Milk</td>\n",
       "      <td>Apple</td>\n",
       "    </tr>\n",
       "    <tr>\n",
       "      <th>1</th>\n",
       "      <td>2</td>\n",
       "      <td>Wine</td>\n",
       "      <td>NaN</td>\n",
       "      <td>Bread</td>\n",
       "      <td>Butter</td>\n",
       "      <td>Milk</td>\n",
       "      <td>NaN</td>\n",
       "    </tr>\n",
       "    <tr>\n",
       "      <th>2</th>\n",
       "      <td>3</td>\n",
       "      <td>NaN</td>\n",
       "      <td>NaN</td>\n",
       "      <td>Bread</td>\n",
       "      <td>Butter</td>\n",
       "      <td>Milk</td>\n",
       "      <td>NaN</td>\n",
       "    </tr>\n",
       "    <tr>\n",
       "      <th>3</th>\n",
       "      <td>4</td>\n",
       "      <td>NaN</td>\n",
       "      <td>Chips</td>\n",
       "      <td>NaN</td>\n",
       "      <td>NaN</td>\n",
       "      <td>NaN</td>\n",
       "      <td>Apple</td>\n",
       "    </tr>\n",
       "    <tr>\n",
       "      <th>4</th>\n",
       "      <td>5</td>\n",
       "      <td>Wine</td>\n",
       "      <td>Chips</td>\n",
       "      <td>Bread</td>\n",
       "      <td>Butter</td>\n",
       "      <td>Milk</td>\n",
       "      <td>Apple</td>\n",
       "    </tr>\n",
       "  </tbody>\n",
       "</table>\n",
       "</div>"
      ],
      "text/plain": [
       "   Tranksaksi ke- Barang 1 Barang 2 Barang 3 Barang 4 Barang 5 Barang 6\n",
       "0               1     Wine    Chips    Bread   Butter     Milk    Apple\n",
       "1               2     Wine      NaN    Bread   Butter     Milk      NaN\n",
       "2               3      NaN      NaN    Bread   Butter     Milk      NaN\n",
       "3               4      NaN    Chips      NaN      NaN      NaN    Apple\n",
       "4               5     Wine    Chips    Bread   Butter     Milk    Apple"
      ]
     },
     "execution_count": 7,
     "metadata": {},
     "output_type": "execute_result"
    }
   ],
   "source": [
    "store_data.head()"
   ]
  },
  {
   "cell_type": "code",
   "execution_count": 8,
   "metadata": {},
   "outputs": [
    {
     "data": {
      "text/html": [
       "<div>\n",
       "<style scoped>\n",
       "    .dataframe tbody tr th:only-of-type {\n",
       "        vertical-align: middle;\n",
       "    }\n",
       "\n",
       "    .dataframe tbody tr th {\n",
       "        vertical-align: top;\n",
       "    }\n",
       "\n",
       "    .dataframe thead th {\n",
       "        text-align: right;\n",
       "    }\n",
       "</style>\n",
       "<table border=\"1\" class=\"dataframe\">\n",
       "  <thead>\n",
       "    <tr style=\"text-align: right;\">\n",
       "      <th></th>\n",
       "      <th>Tranksaksi ke-</th>\n",
       "      <th>Barang 1</th>\n",
       "      <th>Barang 2</th>\n",
       "      <th>Barang 3</th>\n",
       "      <th>Barang 4</th>\n",
       "      <th>Barang 5</th>\n",
       "      <th>Barang 6</th>\n",
       "    </tr>\n",
       "  </thead>\n",
       "  <tbody>\n",
       "    <tr>\n",
       "      <th>17</th>\n",
       "      <td>18</td>\n",
       "      <td>NaN</td>\n",
       "      <td>Chips</td>\n",
       "      <td>NaN</td>\n",
       "      <td>Butter</td>\n",
       "      <td>Milk</td>\n",
       "      <td>Apple</td>\n",
       "    </tr>\n",
       "    <tr>\n",
       "      <th>18</th>\n",
       "      <td>19</td>\n",
       "      <td>Wine</td>\n",
       "      <td>Chips</td>\n",
       "      <td>Bread</td>\n",
       "      <td>Butter</td>\n",
       "      <td>Milk</td>\n",
       "      <td>Apple</td>\n",
       "    </tr>\n",
       "    <tr>\n",
       "      <th>19</th>\n",
       "      <td>20</td>\n",
       "      <td>Wine</td>\n",
       "      <td>NaN</td>\n",
       "      <td>Bread</td>\n",
       "      <td>Butter</td>\n",
       "      <td>Milk</td>\n",
       "      <td>Apple</td>\n",
       "    </tr>\n",
       "    <tr>\n",
       "      <th>20</th>\n",
       "      <td>21</td>\n",
       "      <td>Wine</td>\n",
       "      <td>Chips</td>\n",
       "      <td>Bread</td>\n",
       "      <td>NaN</td>\n",
       "      <td>Milk</td>\n",
       "      <td>Apple</td>\n",
       "    </tr>\n",
       "    <tr>\n",
       "      <th>21</th>\n",
       "      <td>22</td>\n",
       "      <td>NaN</td>\n",
       "      <td>Chips</td>\n",
       "      <td>NaN</td>\n",
       "      <td>NaN</td>\n",
       "      <td>NaN</td>\n",
       "      <td>NaN</td>\n",
       "    </tr>\n",
       "  </tbody>\n",
       "</table>\n",
       "</div>"
      ],
      "text/plain": [
       "    Tranksaksi ke- Barang 1 Barang 2 Barang 3 Barang 4 Barang 5 Barang 6\n",
       "17              18      NaN    Chips      NaN   Butter     Milk    Apple\n",
       "18              19     Wine    Chips    Bread   Butter     Milk    Apple\n",
       "19              20     Wine      NaN    Bread   Butter     Milk    Apple\n",
       "20              21     Wine    Chips    Bread      NaN     Milk    Apple\n",
       "21              22      NaN    Chips      NaN      NaN      NaN      NaN"
      ]
     },
     "execution_count": 8,
     "metadata": {},
     "output_type": "execute_result"
    }
   ],
   "source": [
    "store_data.tail()"
   ]
  },
  {
   "cell_type": "code",
   "execution_count": 9,
   "metadata": {},
   "outputs": [
    {
     "data": {
      "text/plain": [
       "(22, 7)"
      ]
     },
     "execution_count": 9,
     "metadata": {},
     "output_type": "execute_result"
    }
   ],
   "source": [
    "store_data.shape"
   ]
  },
  {
   "cell_type": "code",
   "execution_count": 10,
   "metadata": {},
   "outputs": [],
   "source": [
    "records = []\n",
    "for i in range (0,22):\n",
    "    records.append([str(store_data.values[i,j]) for j in range (0,7)])"
   ]
  },
  {
   "cell_type": "code",
   "execution_count": 11,
   "metadata": {},
   "outputs": [],
   "source": [
    "assosiation_rules = apriori(records, min_support=0.30, min_confidence=0.8, min_lift=1.2, min_lenght=3)"
   ]
  },
  {
   "cell_type": "code",
   "execution_count": 12,
   "metadata": {},
   "outputs": [],
   "source": [
    "assosiation_results = list(assosiation_rules)"
   ]
  },
  {
   "cell_type": "code",
   "execution_count": 13,
   "metadata": {},
   "outputs": [
    {
     "name": "stdout",
     "output_type": "stream",
     "text": [
      "13\n"
     ]
    }
   ],
   "source": [
    "print(len(assosiation_results))"
   ]
  },
  {
   "cell_type": "code",
   "execution_count": 14,
   "metadata": {},
   "outputs": [
    {
     "name": "stdout",
     "output_type": "stream",
     "text": [
      "RelationRecord(items=frozenset({'Bread', 'Apple', 'Wine'}), support=0.45454545454545453, ordered_statistics=[OrderedStatistic(items_base=frozenset({'Bread'}), items_add=frozenset({'Apple', 'Wine'}), confidence=0.625, lift=1.25), OrderedStatistic(items_base=frozenset({'Apple', 'Wine'}), items_add=frozenset({'Bread'}), confidence=0.9090909090909091, lift=1.25)])\n"
     ]
    }
   ],
   "source": [
    "print(assosiation_results[0])"
   ]
  },
  {
   "cell_type": "code",
   "execution_count": 21,
   "metadata": {},
   "outputs": [
    {
     "name": "stdout",
     "output_type": "stream",
     "text": [
      "  tittle 1 tittle2 support convidence  lift\n",
      "0    Bread   Apple  0.4545      0.625  1.25\n",
      "  tittle 1 tittle2 support convidence    lift\n",
      "0    Bread   Apple  0.4545      0.625    1.25\n",
      "1     Milk   Apple  0.4090     0.6000  1.2000\n",
      "  tittle 1 tittle2 support convidence    lift\n",
      "0    Bread   Apple  0.4545      0.625    1.25\n",
      "1     Milk   Apple  0.4090     0.6000  1.2000\n",
      "2    Chips   Bread  0.4090     0.5625  1.2375\n",
      "  tittle 1 tittle2 support convidence    lift\n",
      "0    Bread   Apple  0.4545      0.625    1.25\n",
      "1     Milk   Apple  0.4090     0.6000  1.2000\n",
      "2    Chips   Bread  0.4090     0.5625  1.2375\n",
      "3    Bread    Milk     0.5     0.7333  1.2410\n",
      "  tittle 1 tittle2 support convidence    lift\n",
      "0    Bread   Apple  0.4545      0.625    1.25\n",
      "1     Milk   Apple  0.4090     0.6000  1.2000\n",
      "2    Chips   Bread  0.4090     0.5625  1.2375\n",
      "3    Bread    Milk     0.5     0.7333  1.2410\n",
      "4    Bread  Butter  0.4545      0.625    1.25\n",
      "  tittle 1 tittle2 support convidence    lift\n",
      "0    Bread   Apple  0.4545      0.625    1.25\n",
      "1     Milk   Apple  0.4090     0.6000  1.2000\n",
      "2    Chips   Bread  0.4090     0.5625  1.2375\n",
      "3    Bread    Milk     0.5     0.7333  1.2410\n",
      "4    Bread  Butter  0.4545      0.625    1.25\n",
      "5    Chips   Bread  0.3181     0.5833  1.2833\n",
      "  tittle 1 tittle2 support convidence    lift\n",
      "0    Bread   Apple  0.4545      0.625    1.25\n",
      "1     Milk   Apple  0.4090     0.6000  1.2000\n",
      "2    Chips   Bread  0.4090     0.5625  1.2375\n",
      "3    Bread    Milk     0.5     0.7333  1.2410\n",
      "4    Bread  Butter  0.4545      0.625    1.25\n",
      "5    Chips   Bread  0.3181     0.5833  1.2833\n",
      "6    Bread   Apple  0.3181      0.875  1.2031\n",
      "  tittle 1 tittle2 support convidence    lift\n",
      "0    Bread   Apple  0.4545      0.625    1.25\n",
      "1     Milk   Apple  0.4090     0.6000  1.2000\n",
      "2    Chips   Bread  0.4090     0.5625  1.2375\n",
      "3    Bread    Milk     0.5     0.7333  1.2410\n",
      "4    Bread  Butter  0.4545      0.625    1.25\n",
      "5    Chips   Bread  0.3181     0.5833  1.2833\n",
      "6    Bread   Apple  0.3181      0.875  1.2031\n",
      "7    Bread   Apple  0.3636        0.5  1.2222\n",
      "  tittle 1 tittle2 support convidence    lift\n",
      "0    Bread   Apple  0.4545      0.625    1.25\n",
      "1     Milk   Apple  0.4090     0.6000  1.2000\n",
      "2    Chips   Bread  0.4090     0.5625  1.2375\n",
      "3    Bread    Milk     0.5     0.7333  1.2410\n",
      "4    Bread  Butter  0.4545      0.625    1.25\n",
      "5    Chips   Bread  0.3181     0.5833  1.2833\n",
      "6    Bread   Apple  0.3181      0.875  1.2031\n",
      "7    Bread   Apple  0.3636        0.5  1.2222\n",
      "8     Milk   Apple  0.3181     0.6363  1.2727\n",
      "  tittle 1 tittle2 support convidence    lift\n",
      "0    Bread   Apple  0.4545      0.625    1.25\n",
      "1     Milk   Apple  0.4090     0.6000  1.2000\n",
      "2    Chips   Bread  0.4090     0.5625  1.2375\n",
      "3    Bread    Milk     0.5     0.7333  1.2410\n",
      "4    Bread  Butter  0.4545      0.625    1.25\n",
      "5    Chips   Bread  0.3181     0.5833  1.2833\n",
      "6    Bread   Apple  0.3181      0.875  1.2031\n",
      "7    Bread   Apple  0.3636        0.5  1.2222\n",
      "8     Milk   Apple  0.3181     0.6363  1.2727\n",
      "9    Chips   Bread  0.3181      0.875  1.2833\n",
      "   tittle 1 tittle2 support convidence    lift\n",
      "0     Bread   Apple  0.4545      0.625    1.25\n",
      "1      Milk   Apple  0.4090     0.6000  1.2000\n",
      "2     Chips   Bread  0.4090     0.5625  1.2375\n",
      "3     Bread    Milk     0.5     0.7333  1.2410\n",
      "4     Bread  Butter  0.4545      0.625    1.25\n",
      "5     Chips   Bread  0.3181     0.5833  1.2833\n",
      "6     Bread   Apple  0.3181      0.875  1.2031\n",
      "7     Bread   Apple  0.3636        0.5  1.2222\n",
      "8      Milk   Apple  0.3181     0.6363  1.2727\n",
      "9     Chips   Bread  0.3181      0.875  1.2833\n",
      "10    Chips   Bread  0.3181     0.7000  1.4000\n",
      "   tittle 1 tittle2 support convidence    lift\n",
      "0     Bread   Apple  0.4545      0.625    1.25\n",
      "1      Milk   Apple  0.4090     0.6000  1.2000\n",
      "2     Chips   Bread  0.4090     0.5625  1.2375\n",
      "3     Bread    Milk     0.5     0.7333  1.2410\n",
      "4     Bread  Butter  0.4545      0.625    1.25\n",
      "5     Chips   Bread  0.3181     0.5833  1.2833\n",
      "6     Bread   Apple  0.3181      0.875  1.2031\n",
      "7     Bread   Apple  0.3636        0.5  1.2222\n",
      "8      Milk   Apple  0.3181     0.6363  1.2727\n",
      "9     Chips   Bread  0.3181      0.875  1.2833\n",
      "10    Chips   Bread  0.3181     0.7000  1.4000\n",
      "11    Bread    Milk  0.4090     0.5625  1.2375\n",
      "   tittle 1 tittle2 support convidence    lift\n",
      "0     Bread   Apple  0.4545      0.625    1.25\n",
      "1      Milk   Apple  0.4090     0.6000  1.2000\n",
      "2     Chips   Bread  0.4090     0.5625  1.2375\n",
      "3     Bread    Milk     0.5     0.7333  1.2410\n",
      "4     Bread  Butter  0.4545      0.625    1.25\n",
      "5     Chips   Bread  0.3181     0.5833  1.2833\n",
      "6     Bread   Apple  0.3181      0.875  1.2031\n",
      "7     Bread   Apple  0.3636        0.5  1.2222\n",
      "8      Milk   Apple  0.3181     0.6363  1.2727\n",
      "9     Chips   Bread  0.3181      0.875  1.2833\n",
      "10    Chips   Bread  0.3181     0.7000  1.4000\n",
      "11    Bread    Milk  0.4090     0.5625  1.2375\n",
      "12    Chips   Bread  0.3181      0.875  1.2031\n"
     ]
    }
   ],
   "source": [
    "results=[]\n",
    "for item in assosiation_results:\n",
    "    pair = item[0]\n",
    "    items = [x for x in pair]\n",
    "    \n",
    "    value0 = str(items[0])    \n",
    "    value1 = str(items[1])\n",
    "    value2 = str(item[1])[:6]\n",
    "    value3 = str(item[2][0][2])[:6]\n",
    "    value4 = str(item[2][0][3])[:6]\n",
    "    \n",
    "    rows = (value0,value1,value2,value3,value4)\n",
    "    \n",
    "    results.append(rows)\n",
    "    \n",
    "    label = ['tittle 1', 'tittle2', 'support', 'convidence', 'lift']\n",
    "    \n",
    "    store_suggestion=pd.DataFrame.from_records(results, columns=label)\n",
    "    print(store_suggestion)"
   ]
  },
  {
   "cell_type": "code",
   "execution_count": 16,
   "metadata": {},
   "outputs": [
    {
     "data": {
      "text/html": [
       "<div>\n",
       "<style scoped>\n",
       "    .dataframe tbody tr th:only-of-type {\n",
       "        vertical-align: middle;\n",
       "    }\n",
       "\n",
       "    .dataframe tbody tr th {\n",
       "        vertical-align: top;\n",
       "    }\n",
       "\n",
       "    .dataframe thead th {\n",
       "        text-align: right;\n",
       "    }\n",
       "</style>\n",
       "<table border=\"1\" class=\"dataframe\">\n",
       "  <thead>\n",
       "    <tr style=\"text-align: right;\">\n",
       "      <th></th>\n",
       "      <th>tittle 1</th>\n",
       "      <th>tittle2</th>\n",
       "      <th>support</th>\n",
       "      <th>convidence</th>\n",
       "      <th>lift</th>\n",
       "    </tr>\n",
       "  </thead>\n",
       "  <tbody>\n",
       "    <tr>\n",
       "      <th>count</th>\n",
       "      <td>13</td>\n",
       "      <td>13</td>\n",
       "      <td>13</td>\n",
       "      <td>13</td>\n",
       "      <td>13</td>\n",
       "    </tr>\n",
       "    <tr>\n",
       "      <th>unique</th>\n",
       "      <td>3</td>\n",
       "      <td>4</td>\n",
       "      <td>5</td>\n",
       "      <td>9</td>\n",
       "      <td>9</td>\n",
       "    </tr>\n",
       "    <tr>\n",
       "      <th>top</th>\n",
       "      <td>Bread</td>\n",
       "      <td>Apple</td>\n",
       "      <td>0.3181</td>\n",
       "      <td>0.875</td>\n",
       "      <td>1.2833</td>\n",
       "    </tr>\n",
       "    <tr>\n",
       "      <th>freq</th>\n",
       "      <td>6</td>\n",
       "      <td>5</td>\n",
       "      <td>6</td>\n",
       "      <td>3</td>\n",
       "      <td>2</td>\n",
       "    </tr>\n",
       "  </tbody>\n",
       "</table>\n",
       "</div>"
      ],
      "text/plain": [
       "       tittle 1 tittle2 support convidence    lift\n",
       "count        13      13      13         13      13\n",
       "unique        3       4       5          9       9\n",
       "top       Bread   Apple  0.3181      0.875  1.2833\n",
       "freq          6       5       6          3       2"
      ]
     },
     "execution_count": 16,
     "metadata": {},
     "output_type": "execute_result"
    }
   ],
   "source": [
    "store_suggestion.describe()"
   ]
  },
  {
   "cell_type": "code",
   "execution_count": 17,
   "metadata": {},
   "outputs": [],
   "source": [
    "store_suggestion.to_excel('D:\\Perkuliahan\\Online\\Mining\\Phiton\\hasil1.xls')"
   ]
  },
  {
   "cell_type": "code",
   "execution_count": null,
   "metadata": {},
   "outputs": [],
   "source": []
  }
 ],
 "metadata": {
  "kernelspec": {
   "display_name": "Python 3",
   "language": "python",
   "name": "python3"
  },
  "language_info": {
   "codemirror_mode": {
    "name": "ipython",
    "version": 3
   },
   "file_extension": ".py",
   "mimetype": "text/x-python",
   "name": "python",
   "nbconvert_exporter": "python",
   "pygments_lexer": "ipython3",
   "version": "3.8.3rc1"
  }
 },
 "nbformat": 4,
 "nbformat_minor": 4
}
